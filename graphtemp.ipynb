{
 "cells": [
  {
   "cell_type": "code",
   "execution_count": null,
   "metadata": {},
   "outputs": [],
   "source": [
    "import dgl\n",
    "\n",
    "# Load the graphs\n",
    "path_with_features = r'D:\\CODE\\multi-model knowledge graph multi-graph recommendation system\\code\\mainmodel\\hetero_graph03_with_features_with_audio_features.pkl'\n",
    "path_with_text_features = r'D:\\\\CODE\\\\multi-model knowledge graph multi-graph recommendation system\\\\code\\\\mainmodel\\\\hetero_graph03_with_text_features.pkl'\n",
    "new_path_with_both_features = r'D:\\\\CODE\\\\multi-model knowledge graph multi-graph recommendation system\\\\code\\\\mainmodel\\\\hetero_graph03_with_image_with_text_features.pkl'\n",
    "\n",
    "graph_with_features = dgl.load_graphs(path_with_features)[0][0]\n",
    "graph_with_text_features = dgl.load_graphs(path_with_text_features)[0][0]\n",
    "\n",
    "# Extract text features from the text features graph\n",
    "text_features = graph_with_text_features.nodes['movietext'].data['h']\n",
    "\n",
    "# Update the 'movietext' node features in the features graph\n",
    "graph_with_features.nodes['movietext'].data['h'] = text_features\n",
    "\n",
    "# Save the updated graph to the new file\n",
    "dgl.save_graphs(new_path_with_both_features, [graph_with_features])\n"
   ]
  },
  {
   "cell_type": "code",
   "execution_count": null,
   "metadata": {},
   "outputs": [],
   "source": [
    "import dgl\n",
    "import pickle\n",
    "\n",
    "with open('D:\\CODE\\multi-model knowledge graph multi-graph recommendation system\\code\\mainmodel\\hetero_graph03_with_text_features.pkl', 'rb') as f:\n",
    "    hetero_graph = pickle.load(f)\n",
    "\n",
    "# 列印元圖，顯示所有的節點類型和邊類型\n",
    "print(\"元圖結構:\")\n",
    "print(hetero_graph.metagraph().edges())\n",
    "\n",
    "print(\"\\n節點和邊的數量:\")\n",
    "for ntype in hetero_graph.ntypes:\n",
    "    print(f\"{ntype}節點數量: {hetero_graph.number_of_nodes(ntype)}\")\n",
    "for etype in hetero_graph.canonical_etypes:\n",
    "    print(f\"{etype}邊數量: {hetero_graph.number_of_edges(etype)}\")\n",
    "\n",
    "# 检檢查特定的邊類型是否存在\n",
    "expected_edges = [\n",
    "    ('user', 'rates', 'movie'),\n",
    "    ('movie', 'similar', 'movie'),\n",
    "    ('user', 'similar', 'user'),\n",
    "    ('movie', 'has_image', 'movieimage'),\n",
    "    ('movie', 'has_text', 'movietext'),\n",
    "    ('movie', 'has_audio', 'movieaudio')\n",
    "]\n",
    "\n",
    "print(\"\\n檢查預期的邊類型:\")\n",
    "for edge in expected_edges:\n",
    "    if edge in hetero_graph.canonical_etypes:\n",
    "        print(f\"邊 {edge} 存在.\")\n",
    "    else:\n",
    "        print(f\"邊 {edge} 不存在.\")\n"
   ]
  }
 ],
 "metadata": {
  "kernelspec": {
   "display_name": "GNN",
   "language": "python",
   "name": "python3"
  },
  "language_info": {
   "codemirror_mode": {
    "name": "ipython",
    "version": 3
   },
   "file_extension": ".py",
   "mimetype": "text/x-python",
   "name": "python",
   "nbconvert_exporter": "python",
   "pygments_lexer": "ipython3",
   "version": "3.8.19"
  }
 },
 "nbformat": 4,
 "nbformat_minor": 2
}
